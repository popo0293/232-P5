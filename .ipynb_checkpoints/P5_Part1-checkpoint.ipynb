{
 "cells": [
  {
   "cell_type": "markdown",
   "metadata": {},
   "source": [
    "### Q1\n",
    "> 1. Correlation coefficients are bound between -1 and 1. This $\\rho_{ij}$ is no exception. $$ -1 \\leq \\rho_{ij} \\leq 1 $$  \n",
    "> 2. $q_i(t)$ has range -1 to infinity. We may see that the positive and negative portions are not equally scaled. By using log-normalization, we may transform the skewed scale back to normal."
   ]
  },
  {
   "cell_type": "markdown",
   "metadata": {},
   "source": [
    "### Q2"
   ]
  },
  {
   "cell_type": "code",
   "execution_count": 3,
   "metadata": {},
   "outputs": [],
   "source": [
    "library(igraph)\n",
    "library(xts)"
   ]
  },
  {
   "cell_type": "code",
   "execution_count": 4,
   "metadata": {},
   "outputs": [],
   "source": [
    "dir = \"./finance_data/data/\"\n",
    "file_names = list.files(dir)\n",
    "\n",
    "data = list()\n",
    "for (name in file_names){\n",
    "    tmp = read.csv(paste(dir, name, sep=''))\n",
    "    if (grepl('.csv', name)){\n",
    "        if (grepl('\\\\.B\\\\.csv', name)){\n",
    "            data[[name]] = xts(tmp[,5], order.by=as.Date(tmp$Date, format=\"%m/%d/%y\"))\n",
    "        }else{\n",
    "            data[[name]] = xts(tmp[,5], order.by=as.Date(tmp$Date))\n",
    "        }\n",
    "    }\n",
    "}"
   ]
  },
  {
   "cell_type": "code",
   "execution_count": 5,
   "metadata": {},
   "outputs": [],
   "source": [
    "df <- data.frame(matrix(ncol = 3, nrow = 0))\n",
    "colnames(df) <- c(\"node1\", \"node2\", \"weights\")"
   ]
  },
  {
   "cell_type": "code",
   "execution_count": 7,
   "metadata": {},
   "outputs": [],
   "source": [
    "compute_cor = function(lst1, lst2){\n",
    "    r1 = (diff(log(lst1), lag=1))[-1]\n",
    "    r2 = (diff(log(lst2), lag=1))[-1]\n",
    "    if (length(r1) == length(r2))\n",
    "        return( cor(r1, r2) )\n",
    "    else\n",
    "        return (-2)\n",
    "}"
   ]
  },
  {
   "cell_type": "code",
   "execution_count": 22,
   "metadata": {},
   "outputs": [
    {
     "name": "stdout",
     "output_type": "stream",
     "text": [
      "[1] 1\n",
      "[1] 11\n",
      "[1] 21\n",
      "[1] 31\n",
      "[1] 41\n",
      "[1] 51\n",
      "[1] 61\n",
      "[1] 71\n",
      "[1] 81\n",
      "[1] 91\n",
      "[1] 101\n",
      "[1] 111\n",
      "[1] 121\n",
      "[1] 131\n",
      "[1] 141\n",
      "[1] 151\n",
      "[1] 161\n",
      "[1] 171\n",
      "[1] 181\n",
      "[1] 191\n",
      "[1] 201\n",
      "[1] 211\n",
      "[1] 221\n",
      "[1] 231\n",
      "[1] 241\n",
      "[1] 251\n",
      "[1] 261\n",
      "[1] 271\n",
      "[1] 281\n",
      "[1] 291\n",
      "[1] 301\n",
      "[1] 311\n",
      "[1] 321\n",
      "[1] 331\n",
      "[1] 341\n",
      "[1] 351\n",
      "[1] 361\n",
      "[1] 371\n",
      "[1] 381\n",
      "[1] 391\n",
      "[1] 401\n",
      "[1] 411\n",
      "[1] 421\n",
      "[1] 431\n",
      "[1] 441\n",
      "[1] 451\n",
      "[1] 461\n",
      "[1] 471\n",
      "[1] 481\n",
      "[1] 491\n",
      "[1] 501\n"
     ]
    }
   ],
   "source": [
    "num_nodes = length(data)\n",
    "\n",
    "count = 0\n",
    "flag = 0\n",
    "for ( i in 1:num_nodes ){\n",
    "    if (i%%10 == 1){\n",
    "        print(i)\n",
    "        flush.console()\n",
    "    }\n",
    "    for (j in 1:num_nodes){\n",
    "        if (j > i){\n",
    "            corr = compute_cor(data[[i]], data[[j]])\n",
    "            if (corr != -2){\n",
    "                count = count + 1\n",
    "                weight = sqrt(2 * (1-corr))\n",
    "                df[count, 1] = names(data[i])\n",
    "                df[count, 2] = names(data[j])\n",
    "                df[count, 3] = weight\n",
    "            }\n",
    "        }\n",
    "    }\n",
    "}"
   ]
  },
  {
   "cell_type": "code",
   "execution_count": 23,
   "metadata": {},
   "outputs": [],
   "source": [
    "saveRDS(df, \"egdelist_df.RDS\")"
   ]
  },
  {
   "cell_type": "code",
   "execution_count": null,
   "metadata": {},
   "outputs": [],
   "source": [
    "df = readRDS(df, \"egdelist_df.RDS\")"
   ]
  },
  {
   "cell_type": "code",
   "execution_count": 24,
   "metadata": {},
   "outputs": [],
   "source": [
    "g1 = graph.data.frame(df, directed = FALSE)"
   ]
  },
  {
   "cell_type": "code",
   "execution_count": 25,
   "metadata": {},
   "outputs": [
    {
     "data": {
      "image/png": "[encoded data removed]",
      "text/plain": [
       "Plot with title \"Degree Distribution\""
      ]
     },
     "metadata": {},
     "output_type": "display_data"
    }
   ],
   "source": [
    "plot(degree.distribution(g1), main=\"Degree Distribution\", xlab=\"Degree\", ylab=\"Frequency\")"
   ]
  },
  {
   "cell_type": "code",
   "execution_count": 30,
   "metadata": {},
   "outputs": [
    {
     "data": {
      "image/png": "[encoded data removed]",
      "text/plain": [
       "Plot with title \"Histogram of unnormalized weight\""
      ]
     },
     "metadata": {},
     "output_type": "display_data"
    }
   ],
   "source": [
    "max_w = max(df[,3])\n",
    "min_w = min(df[,3])\n",
    "hist(df[,3], main=\"Histogram of unnormalized weight\", xlab=\"Weight\", breaks = seq(from = round(min_w), to = round(max_w), by = (max_w-min_w)/20))"
   ]
  },
  {
   "cell_type": "code",
   "execution_count": null,
   "metadata": {},
   "outputs": [],
   "source": []
  }
 ],
 "metadata": {
  "kernelspec": {
   "display_name": "R",
   "language": "R",
   "name": "ir"
  },
  "language_info": {
   "codemirror_mode": "r",
   "file_extension": ".r",
   "mimetype": "text/x-r-source",
   "name": "R",
   "pygments_lexer": "r",
   "version": "3.4.4"
  }
 },
 "nbformat": 4,
 "nbformat_minor": 2
}

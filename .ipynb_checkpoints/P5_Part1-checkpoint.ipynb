{
 "cells": [
  {
   "cell_type": "markdown",
   "metadata": {},
   "source": [
    "### Q1\n",
    "> 1. Correlation coefficients are bound between -1 and 1. This $\\rho_{ij}$ is no exception. $$ -1 \\leq \\rho_{ij} \\leq 1 $$  \n",
    "> 2. $q_i(t)$ has range -1 to infinity. We may see that the positive and negative portions are not equally scaled. By using log-normalization, we may transform the skewed scale back to normal."
   ]
  },
  {
   "cell_type": "markdown",
   "metadata": {},
   "source": [
    "### Q2"
   ]
  },
  {
   "cell_type": "code",
   "execution_count": 1,
   "metadata": {},
   "outputs": [
    {
     "name": "stderr",
     "output_type": "stream",
     "text": [
      "\n",
      "Attaching package: 'igraph'\n",
      "\n",
      "The following objects are masked from 'package:stats':\n",
      "\n",
      "    decompose, spectrum\n",
      "\n",
      "The following object is masked from 'package:base':\n",
      "\n",
      "    union\n",
      "\n",
      "Loading required package: zoo\n",
      "\n",
      "Attaching package: 'zoo'\n",
      "\n",
      "The following objects are masked from 'package:base':\n",
      "\n",
      "    as.Date, as.Date.numeric\n",
      "\n"
     ]
    }
   ],
   "source": [
    "library(igraph)\n",
    "library(xts)"
   ]
  },
  {
   "cell_type": "code",
   "execution_count": 2,
   "metadata": {},
   "outputs": [],
   "source": [
    "dir = \"./finance_data/data/\"\n",
    "file_names = list.files(dir)\n",
    "\n",
    "data = list()\n",
    "for (name in file_names){\n",
    "    tmp = read.csv(paste(dir, name, sep=''))\n",
    "    if (grepl('.csv', name)){\n",
    "        if (grepl('\\\\.B\\\\.csv', name)){\n",
    "            data[[name]] = xts(tmp[,5], order.by=as.Date(tmp$Date, format=\"%m/%d/%y\"))\n",
    "        }else{\n",
    "            data[[name]] = xts(tmp[,5], order.by=as.Date(tmp$Date))\n",
    "        }\n",
    "    }\n",
    "}"
   ]
  },
  {
   "cell_type": "code",
   "execution_count": 3,
   "metadata": {},
   "outputs": [],
   "source": [
    "df <- data.frame(matrix(ncol = 3, nrow = 0))\n",
    "colnames(df) <- c(\"node1\", \"node2\", \"weights\")"
   ]
  },
  {
   "cell_type": "code",
   "execution_count": 4,
   "metadata": {},
   "outputs": [],
   "source": [
    "compute_cor = function(lst1, lst2){\n",
    "    r1 = (diff(log(lst1), lag=1))[-1]\n",
    "    r2 = (diff(log(lst2), lag=1))[-1]\n",
    "    if (length(r1) == length(r2))\n",
    "        return( cor(r1, r2) )\n",
    "    else\n",
    "        return (-2)\n",
    "}"
   ]
  },
  {
   "cell_type": "code",
   "execution_count": null,
   "metadata": {},
   "outputs": [],
   "source": [
    "# num_nodes = length(data)\n",
    "\n",
    "# count = 0\n",
    "# flag = 0\n",
    "# for ( i in 1:num_nodes ){\n",
    "#     if (i%%10 == 1){\n",
    "#         print(i)\n",
    "#         flush.console()\n",
    "#     }\n",
    "#     for (j in 1:num_nodes){\n",
    "#         if (j > i){\n",
    "#             corr = compute_cor(data[[i]], data[[j]])\n",
    "#             if (corr != -2){\n",
    "#                 count = count + 1\n",
    "#                 weight = sqrt(2 * (1-corr))\n",
    "#                 df[count, 1] = names(data[i])\n",
    "#                 df[count, 2] = names(data[j])\n",
    "#                 df[count, 3] = weight\n",
    "#             }\n",
    "#         }\n",
    "#     }\n",
    "# }"
   ]
  },
  {
   "cell_type": "code",
   "execution_count": null,
   "metadata": {},
   "outputs": [],
   "source": [
    "# saveRDS(df, \"egdelist_df.RDS\")"
   ]
  },
  {
   "cell_type": "code",
   "execution_count": 5,
   "metadata": {},
   "outputs": [],
   "source": [
    "df = readRDS(\"egdelist_df.RDS\")"
   ]
  },
  {
   "cell_type": "code",
   "execution_count": 6,
   "metadata": {},
   "outputs": [],
   "source": [
    "g1 = graph.data.frame(df, directed = FALSE)"
   ]
  },
  {
   "cell_type": "code",
   "execution_count": 87,
   "metadata": {},
   "outputs": [
    {
     "data": {
      "image/png": "[encoded data removed]",
      "text/plain": [
       "Plot with title \"Degree Distribution\""
      ]
     },
     "metadata": {},
     "output_type": "display_data"
    }
   ],
   "source": [
    "plot(degree.distribution(g1), main=\"Degree Distribution\", xlab=\"Degree\", ylab=\"Frequency\")"
   ]
  },
  {
   "cell_type": "code",
   "execution_count": 8,
   "metadata": {},
   "outputs": [
    {
     "data": {
      "image/png": "[encoded data removed]",
      "text/plain": [
       "Plot with title \"Histogram of unnormalized weight\""
      ]
     },
     "metadata": {},
     "output_type": "display_data"
    }
   ],
   "source": [
    "max_w = max(df[,3])\n",
    "min_w = min(df[,3])\n",
    "hist(df[,3], main=\"Histogram of unnormalized weight\", xlab=\"Weight\", breaks = seq(from = round(min_w), to = round(max_w), by = (max_w-min_w)/20))"
   ]
  },
  {
   "cell_type": "code",
   "execution_count": 9,
   "metadata": {},
   "outputs": [],
   "source": [
    "sectors = read.csv(\"./finance_data/Name_sector.csv\", stringsAsFactors=FALSE)"
   ]
  },
  {
   "cell_type": "code",
   "execution_count": 10,
   "metadata": {},
   "outputs": [],
   "source": [
    "set = unique(sectors$Sector)\n",
    "sector_set = list(name = set)"
   ]
  },
  {
   "cell_type": "code",
   "execution_count": 11,
   "metadata": {},
   "outputs": [],
   "source": [
    "colors = c()\n",
    "for (i in 1:length(sectors$Sector)){\n",
    "    c = which(sector_set$name == sectors$Sector[i])\n",
    "    colors = c(colors, c)\n",
    "}"
   ]
  },
  {
   "cell_type": "code",
   "execution_count": 12,
   "metadata": {},
   "outputs": [],
   "source": [
    "vcolor = c()\n",
    "for (i in 1:length(V(g1))){\n",
    "    node_name = substr(V(g1)$name[i],1,nchar(V(g1)$name[i])-4)\n",
    "    set_id = which(sectors$Symbol == node_name)\n",
    "    c = colors[set_id]\n",
    "    vcolor = c(vcolor, c)\n",
    "}"
   ]
  },
  {
   "cell_type": "code",
   "execution_count": 13,
   "metadata": {},
   "outputs": [],
   "source": [
    "mst1 = mst(g1, weights = df$weights)"
   ]
  },
  {
   "cell_type": "code",
   "execution_count": 89,
   "metadata": {},
   "outputs": [
    {
     "data": {
      "image/png": "[encoded data removed]",
      "text/plain": [
       "Plot with title \"Minimal Spanning Tree\""
      ]
     },
     "metadata": {},
     "output_type": "display_data"
    }
   ],
   "source": [
    "par(mfrow=c(1,1), mar=c(1,1,2,1)) \n",
    "plot(mst1, vertex.color = vcolor, vertex.label = NA, vertex.size = 3, main = \"Minimal Spanning Tree\")"
   ]
  },
  {
   "cell_type": "markdown",
   "metadata": {},
   "source": [
    "### Q4"
   ]
  },
  {
   "cell_type": "code",
   "execution_count": 63,
   "metadata": {},
   "outputs": [],
   "source": [
    "find_color = function(name){\n",
    "    node_name = substr(name,1,nchar(name)-4)\n",
    "    set_id = which(sectors$Symbol == node_name)\n",
    "    c = colors[set_id]\n",
    "    return (c)\n",
    "}"
   ]
  },
  {
   "cell_type": "code",
   "execution_count": 64,
   "metadata": {},
   "outputs": [],
   "source": [
    "V(mst1)$color = vcolor"
   ]
  },
  {
   "cell_type": "code",
   "execution_count": 82,
   "metadata": {},
   "outputs": [
    {
     "name": "stdout",
     "output_type": "stream",
     "text": [
      "[1] 0.8255876\n"
     ]
    }
   ],
   "source": [
    "# alpha 1\n",
    "prob_sum = 0\n",
    "\n",
    "for (v in V(mst1)){\n",
    "    c_self = V(mst1)[v]$color\n",
    "    neigh = neighbors(mst1, v)\n",
    "    count = 0\n",
    "    for (nei in neigh){\n",
    "        if(V(mst1)[nei]$color == c_self){\n",
    "            count = count + 1\n",
    "        }\n",
    "    }\n",
    "    prob_sum = prob_sum + count/length(neigh)\n",
    "}\n",
    "alpha1 = prob_sum / length(V(mst1))\n",
    "print(alpha1)"
   ]
  },
  {
   "cell_type": "code",
   "execution_count": 83,
   "metadata": {},
   "outputs": [],
   "source": [
    "# alpha 2\n",
    "prob_sum = 0\n",
    "\n",
    "len = length(V(mst1))\n",
    "\n",
    "sector_size = c()\n",
    "for( i in 1:length(sector_set$name)){\n",
    "    count = 0\n",
    "    for (j in 1:length(vcolor)){\n",
    "        if(vcolor[j] == i){\n",
    "            count = count + 1\n",
    "        }\n",
    "    }\n",
    "    sector_size = c(sector_size, count)\n",
    "}"
   ]
  },
  {
   "cell_type": "code",
   "execution_count": 84,
   "metadata": {},
   "outputs": [
    {
     "data": {
      "text/html": [
       "<ol class=list-inline>\n",
       "\t<li>60</li>\n",
       "\t<li>64</li>\n",
       "\t<li>84</li>\n",
       "\t<li>67</li>\n",
       "\t<li>37</li>\n",
       "\t<li>28</li>\n",
       "\t<li>63</li>\n",
       "\t<li>31</li>\n",
       "\t<li>24</li>\n",
       "\t<li>34</li>\n",
       "\t<li>4</li>\n",
       "</ol>\n"
      ],
      "text/latex": [
       "\\begin{enumerate*}\n",
       "\\item 60\n",
       "\\item 64\n",
       "\\item 84\n",
       "\\item 67\n",
       "\\item 37\n",
       "\\item 28\n",
       "\\item 63\n",
       "\\item 31\n",
       "\\item 24\n",
       "\\item 34\n",
       "\\item 4\n",
       "\\end{enumerate*}\n"
      ],
      "text/markdown": [
       "1. 60\n",
       "2. 64\n",
       "3. 84\n",
       "4. 67\n",
       "5. 37\n",
       "6. 28\n",
       "7. 63\n",
       "8. 31\n",
       "9. 24\n",
       "10. 34\n",
       "11. 4\n",
       "\n",
       "\n"
      ],
      "text/plain": [
       " [1] 60 64 84 67 37 28 63 31 24 34  4"
      ]
     },
     "metadata": {},
     "output_type": "display_data"
    }
   ],
   "source": [
    "sector_size"
   ]
  },
  {
   "cell_type": "code",
   "execution_count": 85,
   "metadata": {},
   "outputs": [
    {
     "name": "stdout",
     "output_type": "stream",
     "text": [
      "[1] 0.1141064\n"
     ]
    }
   ],
   "source": [
    "for (v in V(mst1)){\n",
    "    c_self = V(mst1)[v]$color\n",
    "    prob_sum = prob_sum + sector_size[c_self]/len\n",
    "}\n",
    "alpha2 = prob_sum / len\n",
    "print(alpha2)"
   ]
  },
  {
   "cell_type": "markdown",
   "metadata": {},
   "source": [
    "### Q5"
   ]
  },
  {
   "cell_type": "code",
   "execution_count": 69,
   "metadata": {},
   "outputs": [
    {
     "data": {
      "text/html": [
       "'English_United States.1252'"
      ],
      "text/latex": [
       "'English\\_United States.1252'"
      ],
      "text/markdown": [
       "'English_United States.1252'"
      ],
      "text/plain": [
       "[1] \"English_United States.1252\""
      ]
     },
     "metadata": {},
     "output_type": "display_data"
    }
   ],
   "source": [
    "Sys.setlocale(\"LC_TIME\", \"English\")"
   ]
  },
  {
   "cell_type": "code",
   "execution_count": 70,
   "metadata": {},
   "outputs": [],
   "source": [
    "w_data = list()\n",
    "mondays = index(data[[1]][weekdays(index(data[[1]])) == 'Monday'])\n",
    "for (name in file_names){\n",
    "    w_data[[name]] = data[[name]][mondays]\n",
    "}"
   ]
  },
  {
   "cell_type": "code",
   "execution_count": 71,
   "metadata": {},
   "outputs": [],
   "source": [
    "df2 <- data.frame(matrix(ncol = 3, nrow = 0))\n",
    "colnames(df2) <- c(\"node1\", \"node2\", \"weights\")"
   ]
  },
  {
   "cell_type": "code",
   "execution_count": 72,
   "metadata": {},
   "outputs": [],
   "source": [
    "# num_nodes_w = length(w_data)\n",
    "\n",
    "# count = 0\n",
    "# flag = 0\n",
    "# for ( i in 1:num_nodes_w ){\n",
    "#     if (i%%10 == 1){\n",
    "#         print(i)\n",
    "#         flush.console()\n",
    "#     }\n",
    "#     for (j in 1:num_nodes_w){\n",
    "#         if (j > i){\n",
    "#             corr = compute_cor(w_data[[i]], w_data[[j]])\n",
    "#             if (corr != -2){\n",
    "#                 count = count + 1\n",
    "#                 weight = sqrt(2 * (1-corr))\n",
    "#                 df2[count, 1] = names(w_data[i])\n",
    "#                 df2[count, 2] = names(w_data[j])\n",
    "#                 df2[count, 3] = weight\n",
    "#             }\n",
    "#         }\n",
    "#     }\n",
    "# }"
   ]
  },
  {
   "cell_type": "code",
   "execution_count": 73,
   "metadata": {},
   "outputs": [],
   "source": [
    "# saveRDS(df2, \"egdelist_df2.RDS\")"
   ]
  },
  {
   "cell_type": "code",
   "execution_count": 74,
   "metadata": {},
   "outputs": [],
   "source": [
    "df2 = readRDS(\"egdelist_df2.RDS\")"
   ]
  },
  {
   "cell_type": "code",
   "execution_count": 75,
   "metadata": {},
   "outputs": [],
   "source": [
    "g2 = graph.data.frame(df2, directed = FALSE)"
   ]
  },
  {
   "cell_type": "code",
   "execution_count": 76,
   "metadata": {},
   "outputs": [],
   "source": [
    "mst2 = mst(g2, weights = df$weights)"
   ]
  },
  {
   "cell_type": "code",
   "execution_count": 77,
   "metadata": {},
   "outputs": [
    {
     "data": {
      "image/png": "[encoded data removed]",
      "text/plain": [
       "Plot with title \"Minimal Spanning Tree\n",
       " with weekly data\""
      ]
     },
     "metadata": {},
     "output_type": "display_data"
    }
   ],
   "source": [
    "par(mfrow=c(1,1), mar=c(1,1,4,1)) \n",
    "plot(mst2, vertex.color = vcolor, vertex.label = NA, vertex.size = 3, main = \"Minimal Spanning Tree\\n with weekly data\")"
   ]
  },
  {
   "cell_type": "code",
   "execution_count": 80,
   "metadata": {},
   "outputs": [
    {
     "name": "stdout",
     "output_type": "stream",
     "text": [
      "[1] 0.8255876\n"
     ]
    }
   ],
   "source": [
    "V(mst2)$color = vcolor\n",
    "# alpha 1\n",
    "prob_sum = 0\n",
    "\n",
    "for (v in V(mst2)){\n",
    "    c_self = V(mst2)[v]$color\n",
    "    neigh = neighbors(mst2, v)\n",
    "    count = 0\n",
    "    for (nei in neigh){\n",
    "        if(V(mst2)[nei]$color == c_self){\n",
    "            count = count + 1\n",
    "        }\n",
    "    }\n",
    "    prob_sum = prob_sum + count/length(neigh)\n",
    "}\n",
    "alpha1w = prob_sum / length(V(mst2))\n",
    "print(alpha1w)"
   ]
  },
  {
   "cell_type": "code",
   "execution_count": 81,
   "metadata": {},
   "outputs": [
    {
     "name": "stdout",
     "output_type": "stream",
     "text": [
      "[1] 0.1141064\n"
     ]
    }
   ],
   "source": [
    "# alpha 2\n",
    "prob_sum = 0\n",
    "\n",
    "len = length(V(mst2))\n",
    "\n",
    "for (v in V(mst2)){\n",
    "    c_self = V(mst2)[v]$color\n",
    "    prob_sum = prob_sum + sector_size[c_self]/len\n",
    "}\n",
    "alpha2w = prob_sum / len\n",
    "print(alpha2w)"
   ]
  },
  {
   "cell_type": "code",
   "execution_count": null,
   "metadata": {},
   "outputs": [],
   "source": []
  },
  {
   "cell_type": "code",
   "execution_count": null,
   "metadata": {},
   "outputs": [],
   "source": []
  }
 ],
 "metadata": {
  "kernelspec": {
   "display_name": "R",
   "language": "R",
   "name": "ir"
  },
  "language_info": {
   "codemirror_mode": "r",
   "file_extension": ".r",
   "mimetype": "text/x-r-source",
   "name": "R",
   "pygments_lexer": "r",
   "version": "3.4.4"
  }
 },
 "nbformat": 4,
 "nbformat_minor": 2
}
